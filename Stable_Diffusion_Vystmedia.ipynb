{
  "cells": [
    {
      "cell_type": "markdown",
      "metadata": {
        "colab_type": "text",
        "id": "view-in-github"
      },
      "source": [
        "<a href=\"https://colab.research.google.com/github/aikazu/vystmedia-sdwebui-collab/blob/main/Stable_Diffusion_Vystmedia.ipynb\" target=\"_parent\"><img src=\"https://colab.research.google.com/assets/colab-badge.svg\" alt=\"Open In Colab\"/></a>"
      ]
    },
    {
      "cell_type": "code",
      "execution_count": null,
      "metadata": {
        "id": "A_u1lCHfMOTS"
      },
      "outputs": [],
      "source": [
        "#@title Install WebUI { display-mode: \"form\" }\n",
        "#@markdown Jalankan ini untuk memulai instalasi.\n",
        "import os\n",
        "from google.colab.output import eval_js\n",
        "os.environ['colab_url'] = eval_js(\"google.colab.kernel.proxyPort(7860, {'cache': false})\")\n",
        "\n",
        "!apt update -yqq\n",
        "!apt install -yqq aria2 unionfs-fuse\n",
        "\n",
        "!wget https://github.com/korakot/kora/releases/download/v0.10/py310.sh\n",
        "!bash ./py310.sh -b -f -p /usr/local\n",
        "!python -m ipykernel install --name \"py310\" --user\n",
        "\n",
        "!apt install -qq libunwind8-dev\n",
        "!wget https://launchpad.net/ubuntu/+source/google-perftools/2.7-1ubuntu2/+build/18734182/+files/google-perftools_2.7-1ubuntu2_all.deb\n",
        "!wget https://launchpad.net/ubuntu/+source/google-perftools/2.7-1ubuntu2/+build/18734182/+files/libgoogle-perftools-dev_2.7-1ubuntu2_amd64.deb\n",
        "!wget https://launchpad.net/ubuntu/+source/google-perftools/2.7-1ubuntu2/+build/18734182/+files/libgoogle-perftools4_2.7-1ubuntu2_amd64.deb\n",
        "!wget https://launchpad.net/ubuntu/+source/google-perftools/2.7-1ubuntu2/+build/18734182/+files/libtcmalloc-minimal4_2.7-1ubuntu2_amd64.deb\n",
        "!dpkg -i *.deb\n",
        "%env LD_PRELOAD=libtcmalloc.so\n",
        "!rm *.deb\n",
        "\n",
        "%pip install torch==2.0.0+cu118 torchvision==0.15.1+cu118 torchaudio==2.0.1 --extra-index-url https://download.pytorch.org/whl/cu118 -U\n",
        "%pip install -q --pre xformers==0.0.17rc482 -U\n",
        "%pip install -q --pre triton\n",
        "\n",
        "!git clone -b v2.2 https://github.com/camenduru/stable-diffusion-webui /content/sdwebui\n",
        "!wget https://raw.githubusercontent.com/camenduru/stable-diffusion-webui-scripts/main/run_n_times.py -O /content/sdwebui/scripts/run_n_times.py\n",
        "!git clone https://github.com/AlUlkesh/stable-diffusion-webui-images-browser /content/sdwebui/extensions/content/sdwebui-images-browser\n",
        "!git clone https://github.com/camenduru/stable-diffusion-webui-huggingface /content/sdwebui/extensions/content/sdwebui-huggingface\n",
        "!git clone -b v2.0 https://github.com/camenduru/sd-civitai-browser /content/sdwebui/extensions/sd-civitai-browser\n",
        "!git clone https://github.com/kohya-ss/sd-webui-additional-networks /content/sdwebui/extensions/sd-webui-additional-networks\n",
        "!git clone https://github.com/Mikubill/sd-webui-controlnet /content/sdwebui/extensions/sd-webui-controlnet\n",
        "!git clone https://github.com/camenduru/openpose-editor /content/sdwebui/extensions/openpose-editor\n",
        "!git clone https://github.com/jexom/sd-webui-depth-lib /content/sdwebui/extensions/sd-webui-depth-lib\n",
        "!git clone https://github.com/hnmr293/posex /content/sdwebui/extensions/posex\n",
        "!git clone https://github.com/camenduru/sd-webui-tunnels /content/sdwebui/extensions/sd-webui-tunnels\n",
        "!git clone https://github.com/etherealxx/batchlinks-webui /content/sdwebui/extensions/batchlinks-webui\n",
        "!git clone https://github.com/d8ahazard/sd_dreambooth_extension /content/sdwebui/extensions/sd_dreambooth_extension\n",
        "%cd /content/sdwebui\n",
        "\n",
        "!aria2c --console-log-level=error -c -x 16 -s 16 -k 1M https://huggingface.co/ckpt/ControlNet/resolve/main/control_canny-fp16.safetensors -d /content/sdwebui/extensions/sd-webui-controlnet/models -o control_canny-fp16.safetensors\n",
        "!aria2c --console-log-level=error -c -x 16 -s 16 -k 1M https://huggingface.co/ckpt/ControlNet/resolve/main/control_depth-fp16.safetensors -d /content/sdwebui/extensions/sd-webui-controlnet/models -o control_depth-fp16.safetensors\n",
        "!aria2c --console-log-level=error -c -x 16 -s 16 -k 1M https://huggingface.co/ckpt/ControlNet/resolve/main/control_hed-fp16.safetensors -d /content/sdwebui/extensions/sd-webui-controlnet/models -o control_hed-fp16.safetensors\n",
        "!aria2c --console-log-level=error -c -x 16 -s 16 -k 1M https://huggingface.co/ckpt/ControlNet/resolve/main/control_mlsd-fp16.safetensors -d /content/sdwebui/extensions/sd-webui-controlnet/models -o control_mlsd-fp16.safetensors\n",
        "!aria2c --console-log-level=error -c -x 16 -s 16 -k 1M https://huggingface.co/ckpt/ControlNet/resolve/main/control_normal-fp16.safetensors -d /content/sdwebui/extensions/sd-webui-controlnet/models -o control_normal-fp16.safetensors\n",
        "!aria2c --console-log-level=error -c -x 16 -s 16 -k 1M https://huggingface.co/ckpt/ControlNet/resolve/main/control_openpose-fp16.safetensors -d /content/sdwebui/extensions/sd-webui-controlnet/models -o control_openpose-fp16.safetensors\n",
        "!aria2c --console-log-level=error -c -x 16 -s 16 -k 1M https://huggingface.co/ckpt/ControlNet/resolve/main/control_scribble-fp16.safetensors -d /content/sdwebui/extensions/sd-webui-controlnet/models -o control_scribble-fp16.safetensors\n",
        "!aria2c --console-log-level=error -c -x 16 -s 16 -k 1M https://huggingface.co/ckpt/ControlNet/resolve/main/control_seg-fp16.safetensors -d /content/sdwebui/extensions/sd-webui-controlnet/models -o control_seg-fp16.safetensors\n",
        "!aria2c --console-log-level=error -c -x 16 -s 16 -k 1M https://huggingface.co/ckpt/ControlNet/resolve/main/hand_pose_model.pth -d /content/sdwebui/extensions/sd-webui-controlnet/annotator/openpose -o hand_pose_model.pth\n",
        "!aria2c --console-log-level=error -c -x 16 -s 16 -k 1M https://huggingface.co/ckpt/ControlNet/resolve/main/body_pose_model.pth -d /content/sdwebui/extensions/sd-webui-controlnet/annotator/openpose -o body_pose_model.pth\n",
        "!aria2c --console-log-level=error -c -x 16 -s 16 -k 1M https://huggingface.co/ckpt/ControlNet/resolve/main/dpt_hybrid-midas-501f0c75.pt -d /content/sdwebui/extensions/sd-webui-controlnet/annotator/midas -o dpt_hybrid-midas-501f0c75.pt\n",
        "!aria2c --console-log-level=error -c -x 16 -s 16 -k 1M https://huggingface.co/ckpt/ControlNet/resolve/main/mlsd_large_512_fp32.pth -d /content/sdwebui/extensions/sd-webui-controlnet/annotator/mlsd -o mlsd_large_512_fp32.pth\n",
        "!aria2c --console-log-level=error -c -x 16 -s 16 -k 1M https://huggingface.co/ckpt/ControlNet/resolve/main/mlsd_tiny_512_fp32.pth -d /content/sdwebui/extensions/sd-webui-controlnet/annotator/mlsd -o mlsd_tiny_512_fp32.pth\n",
        "!aria2c --console-log-level=error -c -x 16 -s 16 -k 1M https://huggingface.co/ckpt/ControlNet/resolve/main/network-bsds500.pth -d /content/sdwebui/extensions/sd-webui-controlnet/annotator/hed -o network-bsds500.pth\n",
        "!aria2c --console-log-level=error -c -x 16 -s 16 -k 1M https://huggingface.co/ckpt/ControlNet/resolve/main/upernet_global_small.pth -d /content/sdwebui/extensions/sd-webui-controlnet/annotator/uniformer -o upernet_global_small.pth\n",
        "!aria2c --console-log-level=error -c -x 16 -s 16 -k 1M https://huggingface.co/ckpt/ControlNet/resolve/main/t2iadapter_style_sd14v1.pth -d /content/sdwebui/extensions/sd-webui-controlnet/models -o t2iadapter_style_sd14v1.pth\n",
        "!aria2c --console-log-level=error -c -x 16 -s 16 -k 1M https://huggingface.co/ckpt/ControlNet/resolve/main/t2iadapter_sketch_sd14v1.pth -d /content/sdwebui/extensions/sd-webui-controlnet/models -o t2iadapter_sketch_sd14v1.pth\n",
        "!aria2c --console-log-level=error -c -x 16 -s 16 -k 1M https://huggingface.co/ckpt/ControlNet/resolve/main/t2iadapter_seg_sd14v1.pth -d /content/sdwebui/extensions/sd-webui-controlnet/models -o t2iadapter_seg_sd14v1.pth\n",
        "!aria2c --console-log-level=error -c -x 16 -s 16 -k 1M https://huggingface.co/ckpt/ControlNet/resolve/main/t2iadapter_openpose_sd14v1.pth -d /content/sdwebui/extensions/sd-webui-controlnet/models -o t2iadapter_openpose_sd14v1.pth\n",
        "!aria2c --console-log-level=error -c -x 16 -s 16 -k 1M https://huggingface.co/ckpt/ControlNet/resolve/main/t2iadapter_keypose_sd14v1.pth -d /content/sdwebui/extensions/sd-webui-controlnet/models -o t2iadapter_keypose_sd14v1.pth\n",
        "!aria2c --console-log-level=error -c -x 16 -s 16 -k 1M https://huggingface.co/ckpt/ControlNet/resolve/main/t2iadapter_depth_sd14v1.pth -d /content/sdwebui/extensions/sd-webui-controlnet/models -o t2iadapter_depth_sd14v1.pth\n",
        "!aria2c --console-log-level=error -c -x 16 -s 16 -k 1M https://huggingface.co/ckpt/ControlNet/resolve/main/t2iadapter_color_sd14v1.pth -d /content/sdwebui/extensions/sd-webui-controlnet/models -o t2iadapter_color_sd14v1.pth\n",
        "!aria2c --console-log-level=error -c -x 16 -s 16 -k 1M https://huggingface.co/ckpt/ControlNet/resolve/main/t2iadapter_canny_sd14v1.pth -d /content/sdwebui/extensions/sd-webui-controlnet/models -o t2iadapter_canny_sd14v1.pth\n",
        "\n",
        "!aria2c --console-log-level=error -c -x 16 -s 16 -k 1M https://huggingface.co/ckpt/chilloutmix/resolve/main/chilloutmix_NiPrunedFp32Fix.safetensors -d /content/sdwebui/models/Stable-diffusion -o chilloutmix_NiPrunedFp32Fix.safetensors\n",
        "\n",
        "!sed -i -e 's/    start()/    #start()/g' /content/sdwebui/launch.py\n",
        "!sed -i -e 's/checkout {commithash}/checkout --force {commithash}/g' /content/sdwebui/launch.py\n",
        "\n",
        "if not os.path.exists(f\"/content/sdwebui/models/CLIP\"):\n",
        "  os.mkdir(f\"/content/sdwebui/models/CLIP\")\n",
        "if not os.path.exists(f\"/content/sdwebui/models/Lora\"):\n",
        "  os.mkdir(f\"/content/sdwebui/models/Lora\")\n",
        "if not os.path.exists(f\"/content/sdwebui/log/\"):\n",
        "  os.mkdir(f\"/content/sdwebui/log/\")\n",
        "if not os.path.exists(f\"/content/sdwebui/log/images\"):\n",
        "  os.mkdir(f\"/content/sdwebui/log/images\")\n",
        "\n",
        "#@markdown Centang jika ingin menggunakan model dari Gdrive\n",
        "useGDrive = False #@param {type:\"boolean\"}\n",
        "if useGDrive:\n",
        "  from google.colab import drive\n",
        "  drive.mount('/content/drive')\n",
        "  if not os.path.exists(f\"/content/drive/MyDrive/SDdata\"):\n",
        "  os.mkdir(f\"/content/drive/MyDrive/SDdata\")\n",
        "  if not os.path.exists(f\"/content/drive/MyDrive/SDdata/Checkpoint\"):\n",
        "  os.mkdir(f\"/content/drive/MyDrive/SDdata/Checkpoint\")\n",
        "  if not os.path.exists(f\"/content/drive/MyDrive/SDdata/Lora\"):\n",
        "  os.mkdir(f\"/content/drive/MyDrive/SDdata/Lora\")\n",
        "  if not os.path.exists(f\"/content/drive/MyDrive/SDdata/Embeddings\"):\n",
        "  os.mkdir(f\"/content/drive/MyDrive/SDdata/Embeddings\")\n",
        "  !unionfs-fuse -o nonempty /content/drive/MyDrive/SDdata/Checkpoint=RW /content/sdwebui/models/Stable-diffusion\n",
        "  !unionfs-fuse -o nonempty /content/drive/MyDrive/SDdata/Lora=RW /content/sdwebui/extensions/sd-webui-additional-networks/models/lora\n",
        "  !unionfs-fuse -o nonempty /content/drive/MyDrive/SDdata/Lora=RW /content/sdwebui/models/Lora\n",
        "  !unionfs-fuse -o nonempty /content/drive/MyDrive/SDdata/Embeddings=RW /content/sdwebui/embeddings\n",
        "  !unionfs-fuse -o nonempty /content/drive/MyDrive/SDdata/=RW /content/sdwebui/log/images\n",
        "else:\n",
        "  !aria2c --console-log-level=error -c -x 16 -s 16 -k 1M https://openaipublic.azureedge.net/clip/models/b8cca3fd41ae0c99ba7e8951adf17d267cdb84cd88be6f7c2e0eca1737a03836/ViT-L-14.pt -d /content/sdwebui/models/CLIP -o ViT-L-14.pt\n",
        "\n",
        "!python launch.py --skip-torch-cuda-test\n",
        "\n",
        "!git reset --hard\n",
        "!git pull\n",
        "!git -C /content/sdwebui/extensions/stable-diffusion-webui-images-browser reset --hard\n",
        "!git -C /content/sdwebui/extensions/stable-diffusion-webui-images-browser pull\n",
        "!git -C /content/sdwebui/extensions/stable-diffusion-webui-huggingface reset --hard\n",
        "!git -C /content/sdwebui/extensions/stable-diffusion-webui-huggingface pull\n",
        "!git -C /content/sdwebui/extensions/sd-civitai-browser reset --hard\n",
        "!git -C /content/sdwebui/extensions/sd-civitai-browser pull\n",
        "!git -C /content/sdwebui/extensions/sd-webui-additional-networks reset --hard\n",
        "!git -C /content/sdwebui/extensions/sd-webui-additional-networks pull\n",
        "!git -C /content/sdwebui/extensions/sd-webui-controlnet reset --hard\n",
        "!git -C /content/sdwebui/extensions/sd-webui-controlnet pull\n",
        "!git -C /content/sdwebui/extensions/openpose-editor reset --hard\n",
        "!git -C /content/sdwebui/extensions/openpose-editor pull\n",
        "!git -C /content/sdwebui/extensions/sd-webui-depth-lib reset --hard\n",
        "!git -C /content/sdwebui/extensions/sd-webui-depth-lib pull\n",
        "!git -C /content/sdwebui/extensions/posex reset --hard\n",
        "!git -C /content/sdwebui/extensions/posex pull\n",
        "!git -C /content/sdwebui/extensions/sd-webui-tunnels reset --hard\n",
        "!git -C /content/sdwebui/extensions/sd-webui-tunnels pull\n",
        "!git -C /content/sdwebui/extensions/batchlinks-webui reset --hard\n",
        "!git -C /content/sdwebui/extensions/batchlinks-webui pull\n",
        "!git -C /content/sdwebui/extensions/sd_dreambooth_extension reset --hard\n",
        "!git -C /content/sdwebui/extensions/sd_dreambooth_extension pull\n",
        "\n",
        "!sed -i -e 's/checkout {commithash}/checkout --force {commithash}/g' /content/sdwebui/launch.py\n",
        "!sed -i -e '''/    prepare_environment()/a\\    os.system\\(f\\\"\"\"sed -i -e ''\\\"s/dict()))/dict())).cuda()/g\\\"'' /content/sdwebui/repositories/stable-diffusion-stability-ai/ldm/util.py\"\"\")''' /content/sdwebui/launch.py\n",
        "!sed -i -e 's/fastapi==0.89.1/fastapi==0.90.1/g' /content/sdwebui/requirements_versions.txt\n",
        "!sed -i -e 's/accelerate==0.12.0/accelerate==0.17.1/g' /content/sdwebui/requirements_versions.txt\n",
        "!sed -i -e 's/transformers==4.25.1/transformers==4.26.1/g' /content/sdwebui/requirements_versions.txt\n",
        "\n",
        "print(\"Installed\")"
      ]
    },
    {
      "cell_type": "code",
      "execution_count": null,
      "metadata": {
        "id": "GpbNMnSkTJE6"
      },
      "outputs": [],
      "source": [
        "#@title Run WebUI { display-mode: \"form\" }\n",
        "#@markdown Jalankan ini untuk memulai WebUI setelah proses instalasi selesai.\n",
        "\n",
        "!python launch.py --listen --xformers --enable-insecure-extension-access --theme dark --clip-models-path /content/sdwebui/models/CLIP --multiple"
      ]
    },
    {
      "cell_type": "markdown",
      "metadata": {
        "id": "8dURfLGhQ5Yf"
      },
      "source": [
        "# Misc\n",
        "Kumpulan tambahan untuk download Checkpoint, Lora, Textual Inversion ke dalam Gdrive."
      ]
    },
    {
      "cell_type": "code",
      "execution_count": null,
      "metadata": {
        "colab": {
          "base_uri": "https://localhost:8080/"
        },
        "id": "BUQnsZU9SJ0j",
        "outputId": "eb5f64d3-e38c-4fe9-e3ad-0ee4904611e8"
      },
      "outputs": [
        {
          "name": "stdout",
          "output_type": "stream",
          "text": [
            "Drive already mounted at /content/drive; to attempt to forcibly remount, call drive.mount(\"/content/drive\", force_remount=True).\n",
            "\n",
            "Download Results:\n",
            "gid   |stat|avg speed  |path/URI\n",
            "======+====+===========+=======================================================\n",
            "c1e2d1|\u001b[1;32mOK\u001b[0m  |    12KiB/s|/content/drive/MyDrive/SDdata/Checkpoint/Chilled_re_generic_v2.safetensors\n",
            "\n",
            "Status Legend:\n",
            "(OK):download completed.\n"
          ]
        }
      ],
      "source": [
        "#@title Download Checkpoint { display-mode: \"form\" }\n",
        "\n",
        "from google.colab import drive\n",
        "drive.mount('/content/drive')\n",
        "\n",
        "!apt-get -y install -qq aria2\n",
        "\n",
        "#@markdown Isi dengan link download\n",
        "model_url = \"https://drive.google.com/u/0/uc?id=1KNU_giorZYOflT3gdwAPtIPh6sNE2oNR&export=download\" #@param {type:\"string\"}\n",
        "\n",
        "#@markdown Isi dengan nama yang di inginkan\n",
        "model_name = \"Chilled_re_generic_v2.safetensors\" #@param {type:\"string\"}\n",
        "\n",
        "model_url = f\"\\\"{model_url}\\\"\"\n",
        "!aria2c --console-log-level=error -c -x 16 -s 16 -k 1M {model_url} -d /content/drive/MyDrive/SDdata/Checkpoint -o {model_name}\n"
      ]
    },
    {
      "cell_type": "code",
      "execution_count": null,
      "metadata": {
        "id": "hKarjb2QTbcn"
      },
      "outputs": [],
      "source": [
        "#@title Download Lora { display-mode: \"form\" }\n",
        "\n",
        "from google.colab import drive\n",
        "drive.mount('/content/drive')\n",
        "\n",
        "!apt-get -y install -qq aria2\n",
        "\n",
        "#@markdown Isi dengan link download\n",
        "model_url = \"https://huggingface.co/aimainia/japaneseDollLikeness_v10/resolve/main/japaneseDollLikeness_v10.safetensors\" #@param {type:\"string\"}\n",
        "\n",
        "#@markdown Isi dengan nama yang di inginkan\n",
        "model_name = \"japaneseDollLikeness_v10.safetensors\" #@param {type:\"string\"}\n",
        "\n",
        "model_url = f\"\\\"{model_url}\\\"\"\n",
        "!aria2c --console-log-level=error -c -x 16 -s 16 -k 1M {model_url} -d /content/drive/MyDrive/SDdata/Lora -o {model_name}\n"
      ]
    },
    {
      "cell_type": "code",
      "execution_count": null,
      "metadata": {
        "id": "ibpb5UYOUCgH"
      },
      "outputs": [],
      "source": [
        "#@title Download Textual Inversion { display-mode: \"form\" }\n",
        "\n",
        "from google.colab import drive\n",
        "drive.mount('/content/drive')\n",
        "\n",
        "!apt-get -y install -qq aria2\n",
        "\n",
        "#@markdown Isi dengan link download\n",
        "model_url = \"https://civitai.com/api/download/models/5119\" #@param {type:\"string\"}\n",
        "\n",
        "#@markdown Isi dengan nama yang di inginkan\n",
        "model_name = \"pureerosface_v1.pt\" #@param {type:\"string\"}\n",
        "\n",
        "model_url = f\"\\\"{model_url}\\\"\"\n",
        "!aria2c --console-log-level=error -c -x 16 -s 16 -k 1M {model_url} -d /content/drive/MyDrive/SDdata/Embeddings -o {model_name}\n"
      ]
    }
  ],
  "metadata": {
    "colab": {
      "collapsed_sections": [
        "8dURfLGhQ5Yf"
      ],
      "include_colab_link": true,
      "provenance": []
    },
    "gpuClass": "standard",
    "kernelspec": {
      "display_name": "Python 3",
      "language": "python",
      "name": "python3"
    },
    "language_info": {
      "name": "python",
      "version": "3.10.10"
    },
    "vscode": {
      "interpreter": {
        "hash": "1cb2b13c2639c3f143e419f2c85eff3ffd2cfe134112cc45dc8fe887ed9c7fc5"
      }
    }
  },
  "nbformat": 4,
  "nbformat_minor": 0
}
