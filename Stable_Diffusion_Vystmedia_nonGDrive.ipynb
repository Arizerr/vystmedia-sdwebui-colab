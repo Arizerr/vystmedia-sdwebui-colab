{
  "nbformat": 4,
  "nbformat_minor": 0,
  "metadata": {
    "colab": {
      "provenance": [],
      "collapsed_sections": [
        "8dURfLGhQ5Yf"
      ],
      "authorship_tag": "ABX9TyOorMyN3J5GLwPxkVIJvVO5",
      "include_colab_link": true
    },
    "kernelspec": {
      "name": "python3",
      "display_name": "Python 3"
    },
    "language_info": {
      "name": "python"
    },
    "accelerator": "GPU",
    "gpuClass": "standard"
  },
  "cells": [
    {
      "cell_type": "markdown",
      "metadata": {
        "id": "view-in-github",
        "colab_type": "text"
      },
      "source": [
        "<a href=\"https://colab.research.google.com/github/aikazu/vystmedia-sdwebui-collab/blob/main/Stable_Diffusion_Vystmedia_nonGDrive.ipynb\" target=\"_parent\"><img src=\"https://colab.research.google.com/assets/colab-badge.svg\" alt=\"Open In Colab\"/></a>"
      ]
    },
    {
      "cell_type": "markdown",
      "source": [
        "Jika ingin menggunakan model dari Gdrive buat dulu folder bernama **SDdata** di root folder dan 3 folder didalam nya berisi **Checkpoint** **Lora** **Embeddings**\n",
        "\n",
        "![Untitled.jpg](data:image/jpeg;base64,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)"
      ],
      "metadata": {
        "id": "D4qmiUIHlExM"
      }
    },
    {
      "cell_type": "markdown",
      "source": [
        "# Main Section\n",
        "Install dan jalankan WebUI di section ini."
      ],
      "metadata": {
        "id": "pWfYUU5AQsTt"
      }
    },
    {
      "cell_type": "code",
      "execution_count": null,
      "metadata": {
        "id": "A_u1lCHfMOTS"
      },
      "outputs": [],
      "source": [
        "#@title Install WebUI { display-mode: \"form\" }\n",
        "#@markdown Jalankan ini untuk memulai instalasi.\n",
        "import os\n",
        "from google.colab.output import eval_js\n",
        "os.environ['colab_url'] = eval_js(\"google.colab.kernel.proxyPort(7860, {'cache': false})\")\n",
        "\n",
        "!apt update -yqq\n",
        "!apt install -yqq aria2 unionfs-fuse\n",
        "\n",
        "!wget https://github.com/korakot/kora/releases/download/v0.10/py310.sh\n",
        "!bash ./py310.sh -b -f -p /usr/local\n",
        "!python -m ipykernel install --name \"py310\" --user\n",
        "\n",
        "!apt install -qq libunwind8-dev\n",
        "!wget https://launchpad.net/ubuntu/+source/google-perftools/2.7-1ubuntu2/+build/18734182/+files/google-perftools_2.7-1ubuntu2_all.deb\n",
        "!wget https://launchpad.net/ubuntu/+source/google-perftools/2.7-1ubuntu2/+build/18734182/+files/libgoogle-perftools-dev_2.7-1ubuntu2_amd64.deb\n",
        "!wget https://launchpad.net/ubuntu/+source/google-perftools/2.7-1ubuntu2/+build/18734182/+files/libgoogle-perftools4_2.7-1ubuntu2_amd64.deb\n",
        "!wget https://launchpad.net/ubuntu/+source/google-perftools/2.7-1ubuntu2/+build/18734182/+files/libtcmalloc-minimal4_2.7-1ubuntu2_amd64.deb\n",
        "!dpkg -i *.deb\n",
        "%env LD_PRELOAD=libtcmalloc.so\n",
        "!rm *.deb\n",
        "\n",
        "!pip install torch==2.0.0+cu118 torchvision==0.15.1+cu118 torchaudio==2.0.1 --extra-index-url https://download.pytorch.org/whl/cu118 -U\n",
        "!pip install -q --pre xformers==0.0.17rc482 -U\n",
        "!pip install -q --pre triton\n",
        "\n",
        "!git clone https://github.com/AUTOMATIC1111/stable-diffusion-webui /content/sdwebui\n",
        "!git clone https://github.com/deforum-art/deforum-for-automatic1111-webui /content/sdwebui/extensions/deforum-for-automatic1111-webui\n",
        "!git clone https://github.com/AlUlkesh/stable-diffusion-webui-images-browser /content/sdwebui/extensions/content/sdwebui-images-browser\n",
        "!git clone https://github.com/camenduru/stable-diffusion-webui-huggingface /content/sdwebui/extensions/content/sdwebui-huggingface\n",
        "!git clone -b v2.0 https://github.com/camenduru/sd-civitai-browser /content/sdwebui/extensions/sd-civitai-browser\n",
        "!git clone https://github.com/kohya-ss/sd-webui-additional-networks /content/sdwebui/extensions/sd-webui-additional-networks\n",
        "!git clone https://github.com/Mikubill/sd-webui-controlnet /content/sdwebui/extensions/sd-webui-controlnet\n",
        "!git clone https://github.com/camenduru/openpose-editor /content/sdwebui/extensions/openpose-editor\n",
        "!git clone https://github.com/jexom/sd-webui-depth-lib /content/sdwebui/extensions/sd-webui-depth-lib\n",
        "!git clone https://github.com/hnmr293/posex /content/sdwebui/extensions/posex\n",
        "!git clone https://github.com/Bing-su/sd-webui-tunnels /content/sdwebui/extensions/sd-webui-tunnels\n",
        "!git clone https://github.com/etherealxx/batchlinks-webui /content/sdwebui/extensions/batchlinks-webui\n",
        "!git clone https://github.com/d8ahazard/sd_dreambooth_extension /content/sdwebui/extensions/sd_dreambooth_extension\n",
        "%cd /content/sdwebui\n",
        "\n",
        "!aria2c --console-log-level=error -c -x 16 -s 16 -k 1M https://huggingface.co/ckpt/ControlNet/resolve/main/control_canny-fp16.safetensors -d /content/sdwebui/extensions/sd-webui-controlnet/models -o control_canny-fp16.safetensors\n",
        "!aria2c --console-log-level=error -c -x 16 -s 16 -k 1M https://huggingface.co/ckpt/ControlNet/resolve/main/control_depth-fp16.safetensors -d /content/sdwebui/extensions/sd-webui-controlnet/models -o control_depth-fp16.safetensors\n",
        "!aria2c --console-log-level=error -c -x 16 -s 16 -k 1M https://huggingface.co/ckpt/ControlNet/resolve/main/control_hed-fp16.safetensors -d /content/sdwebui/extensions/sd-webui-controlnet/models -o control_hed-fp16.safetensors\n",
        "!aria2c --console-log-level=error -c -x 16 -s 16 -k 1M https://huggingface.co/ckpt/ControlNet/resolve/main/control_mlsd-fp16.safetensors -d /content/sdwebui/extensions/sd-webui-controlnet/models -o control_mlsd-fp16.safetensors\n",
        "!aria2c --console-log-level=error -c -x 16 -s 16 -k 1M https://huggingface.co/ckpt/ControlNet/resolve/main/control_normal-fp16.safetensors -d /content/sdwebui/extensions/sd-webui-controlnet/models -o control_normal-fp16.safetensors\n",
        "!aria2c --console-log-level=error -c -x 16 -s 16 -k 1M https://huggingface.co/ckpt/ControlNet/resolve/main/control_openpose-fp16.safetensors -d /content/sdwebui/extensions/sd-webui-controlnet/models -o control_openpose-fp16.safetensors\n",
        "!aria2c --console-log-level=error -c -x 16 -s 16 -k 1M https://huggingface.co/ckpt/ControlNet/resolve/main/control_scribble-fp16.safetensors -d /content/sdwebui/extensions/sd-webui-controlnet/models -o control_scribble-fp16.safetensors\n",
        "!aria2c --console-log-level=error -c -x 16 -s 16 -k 1M https://huggingface.co/ckpt/ControlNet/resolve/main/control_seg-fp16.safetensors -d /content/sdwebui/extensions/sd-webui-controlnet/models -o control_seg-fp16.safetensors\n",
        "!aria2c --console-log-level=error -c -x 16 -s 16 -k 1M https://huggingface.co/ckpt/ControlNet/resolve/main/hand_pose_model.pth -d /content/sdwebui/extensions/sd-webui-controlnet/annotator/openpose -o hand_pose_model.pth\n",
        "!aria2c --console-log-level=error -c -x 16 -s 16 -k 1M https://huggingface.co/ckpt/ControlNet/resolve/main/body_pose_model.pth -d /content/sdwebui/extensions/sd-webui-controlnet/annotator/openpose -o body_pose_model.pth\n",
        "!aria2c --console-log-level=error -c -x 16 -s 16 -k 1M https://huggingface.co/ckpt/ControlNet/resolve/main/dpt_hybrid-midas-501f0c75.pt -d /content/sdwebui/extensions/sd-webui-controlnet/annotator/midas -o dpt_hybrid-midas-501f0c75.pt\n",
        "!aria2c --console-log-level=error -c -x 16 -s 16 -k 1M https://huggingface.co/ckpt/ControlNet/resolve/main/mlsd_large_512_fp32.pth -d /content/sdwebui/extensions/sd-webui-controlnet/annotator/mlsd -o mlsd_large_512_fp32.pth\n",
        "!aria2c --console-log-level=error -c -x 16 -s 16 -k 1M https://huggingface.co/ckpt/ControlNet/resolve/main/mlsd_tiny_512_fp32.pth -d /content/sdwebui/extensions/sd-webui-controlnet/annotator/mlsd -o mlsd_tiny_512_fp32.pth\n",
        "!aria2c --console-log-level=error -c -x 16 -s 16 -k 1M https://huggingface.co/ckpt/ControlNet/resolve/main/network-bsds500.pth -d /content/sdwebui/extensions/sd-webui-controlnet/annotator/hed -o network-bsds500.pth\n",
        "!aria2c --console-log-level=error -c -x 16 -s 16 -k 1M https://huggingface.co/ckpt/ControlNet/resolve/main/upernet_global_small.pth -d /content/sdwebui/extensions/sd-webui-controlnet/annotator/uniformer -o upernet_global_small.pth\n",
        "!aria2c --console-log-level=error -c -x 16 -s 16 -k 1M https://huggingface.co/ckpt/ControlNet/resolve/main/t2iadapter_style_sd14v1.pth -d /content/sdwebui/extensions/sd-webui-controlnet/models -o t2iadapter_style_sd14v1.pth\n",
        "!aria2c --console-log-level=error -c -x 16 -s 16 -k 1M https://huggingface.co/ckpt/ControlNet/resolve/main/t2iadapter_sketch_sd14v1.pth -d /content/sdwebui/extensions/sd-webui-controlnet/models -o t2iadapter_sketch_sd14v1.pth\n",
        "!aria2c --console-log-level=error -c -x 16 -s 16 -k 1M https://huggingface.co/ckpt/ControlNet/resolve/main/t2iadapter_seg_sd14v1.pth -d /content/sdwebui/extensions/sd-webui-controlnet/models -o t2iadapter_seg_sd14v1.pth\n",
        "!aria2c --console-log-level=error -c -x 16 -s 16 -k 1M https://huggingface.co/ckpt/ControlNet/resolve/main/t2iadapter_openpose_sd14v1.pth -d /content/sdwebui/extensions/sd-webui-controlnet/models -o t2iadapter_openpose_sd14v1.pth\n",
        "!aria2c --console-log-level=error -c -x 16 -s 16 -k 1M https://huggingface.co/ckpt/ControlNet/resolve/main/t2iadapter_keypose_sd14v1.pth -d /content/sdwebui/extensions/sd-webui-controlnet/models -o t2iadapter_keypose_sd14v1.pth\n",
        "!aria2c --console-log-level=error -c -x 16 -s 16 -k 1M https://huggingface.co/ckpt/ControlNet/resolve/main/t2iadapter_depth_sd14v1.pth -d /content/sdwebui/extensions/sd-webui-controlnet/models -o t2iadapter_depth_sd14v1.pth\n",
        "!aria2c --console-log-level=error -c -x 16 -s 16 -k 1M https://huggingface.co/ckpt/ControlNet/resolve/main/t2iadapter_color_sd14v1.pth -d /content/sdwebui/extensions/sd-webui-controlnet/models -o t2iadapter_color_sd14v1.pth\n",
        "!aria2c --console-log-level=error -c -x 16 -s 16 -k 1M https://huggingface.co/ckpt/ControlNet/resolve/main/t2iadapter_canny_sd14v1.pth -d /content/sdwebui/extensions/sd-webui-controlnet/models -o t2iadapter_canny_sd14v1.pth\n",
        "\n",
        "!aria2c --console-log-level=error -c -x 16 -s 16 -k 1M https://huggingface.co/ckpt/chilloutmix/resolve/main/chilloutmix_NiPrunedFp32Fix.safetensors -d /content/sdwebui/models/Stable-diffusion -o chilloutmix_NiPrunedFp32Fix.safetensors\n",
        "\n",
        "!sed -i -e 's/    start()/    #start()/g' /content/sdwebui/launch.py\n",
        "!sed -i -e 's/checkout {commithash}/checkout --force {commithash}/g' /content/sdwebui/launch.py\n",
        "\n",
        "if not os.path.exists(f\"/content/sdwebui/extensions/deforum-for-automatic1111-webui/models\"):\n",
        "  os.mkdir(f\"/content/sdwebui/extensions/deforum-for-automatic1111-webui/models\")\n",
        "\n",
        "if not os.path.exists(f\"/content/sdwebui/models/CLIP\"):\n",
        "  os.mkdir(f\"/content/sdwebui/models/CLIP\")\n",
        "\n",
        "#@markdown Centang jika ingin menggunakan model dari Gdrive\n",
        "useFuse = False #@param {type:\"boolean\"}\n",
        "if useFuse:\n",
        "  from google.colab import drive\n",
        "  drive.mount('/content/drive')\n",
        "  !unionfs-fuse -o nonempty /content/drive/MyDrive/SDdata/Checkpoint=RW /content/sdwebui/models/Stable-diffusion\n",
        "  !unionfs-fuse -o nonempty /content/drive/MyDrive/SDdata/Lora=RW /content/sdwebui/extensions/sd-webui-additional-networks/models/lora\n",
        "  !unionfs-fuse -o nonempty /content/drive/MyDrive/SDdata/Embeddings=RW /content/sdwebui/embeddings\n",
        "\n",
        "!aria2c --console-log-level=error -c -x 16 -s 16 -k 1M https://openaipublic.azureedge.net/clip/models/b8cca3fd41ae0c99ba7e8951adf17d267cdb84cd88be6f7c2e0eca1737a03836/ViT-L-14.pt -d /content/sdwebui/models/CLIP -o ViT-L-14.pt\n",
        "\n",
        "!python launch.py --skip-torch-cuda-test\n",
        "\n",
        "!git reset --hard\n",
        "!git pull\n",
        "!git -C /content/sdwebui/extensions/deforum-for-automatic1111-webui reset --hard\n",
        "!git -C /content/sdwebui/extensions/deforum-for-automatic1111-webui pull\n",
        "!git -C /content/sdwebui/extensions/stable-diffusion-webui-images-browser reset --hard\n",
        "!git -C /content/sdwebui/extensions/stable-diffusion-webui-images-browser pull\n",
        "!git -C /content/sdwebui/extensions/stable-diffusion-webui-huggingface reset --hard\n",
        "!git -C /content/sdwebui/extensions/stable-diffusion-webui-huggingface pull\n",
        "!git -C /content/sdwebui/extensions/sd-civitai-browser reset --hard\n",
        "!git -C /content/sdwebui/extensions/sd-civitai-browser pull\n",
        "!git -C /content/sdwebui/extensions/sd-webui-additional-networks reset --hard\n",
        "!git -C /content/sdwebui/extensions/sd-webui-additional-networks pull\n",
        "!git -C /content/sdwebui/extensions/sd-webui-controlnet reset --hard\n",
        "!git -C /content/sdwebui/extensions/sd-webui-controlnet pull\n",
        "!git -C /content/sdwebui/extensions/openpose-editor reset --hard\n",
        "!git -C /content/sdwebui/extensions/openpose-editor pull\n",
        "!git -C /content/sdwebui/extensions/sd-webui-depth-lib reset --hard\n",
        "!git -C /content/sdwebui/extensions/sd-webui-depth-lib pull\n",
        "!git -C /content/sdwebui/extensions/posex reset --hard\n",
        "!git -C /content/sdwebui/extensions/posex pull\n",
        "!git -C /content/sdwebui/extensions/sd-webui-tunnels reset --hard\n",
        "!git -C /content/sdwebui/extensions/sd-webui-tunnels pull\n",
        "!git -C /content/sdwebui/extensions/batchlinks-webui reset --hard\n",
        "!git -C /content/sdwebui/extensions/batchlinks-webui pull\n",
        "!git -C /content/sdwebui/extensions/sd_dreambooth_extension reset --hard\n",
        "!git -C /content/sdwebui/extensions/sd_dreambooth_extension pull\n",
        "\n",
        "!sed -i -e 's/checkout {commithash}/checkout --force {commithash}/g' /content/sdwebui/launch.py\n",
        "!sed -i -e '''/    prepare_environment()/a\\    os.system\\(f\\\"\"\"sed -i -e ''\\\"s/dict()))/dict())).cuda()/g\\\"'' /content/sdwebui/repositories/stable-diffusion-stability-ai/ldm/util.py\"\"\")''' /content/sdwebui/launch.py\n",
        "!sed -i -e 's/fastapi==0.89.1/fastapi==0.90.1/g' /content/sdwebui/requirements_versions.txt\n",
        "!sed -i -e 's/accelerate==0.12.0/accelerate==0.17.1/g' /content/sdwebui/requirements_versions.txt\n",
        "!sed -i -e 's/transformers==4.25.1/transformers==4.26.1/g' /content/sdwebui/requirements_versions.txt\n",
        "\n",
        "print(\"Installed\")"
      ]
    },
    {
      "cell_type": "code",
      "source": [
        "#@title Run WebUI { display-mode: \"form\" }\n",
        "#@markdown Jalankan ini untuk memulai WebUI setelah proses instalasi selesai.\n",
        "\n",
        "!python launch.py --listen --xformers --enable-insecure-extension-access --theme dark --gradio-queue --clip-models-path /content/sdwebui/models/CLIP --cloudflared"
      ],
      "metadata": {
        "id": "GpbNMnSkTJE6"
      },
      "execution_count": null,
      "outputs": []
    },
    {
      "cell_type": "markdown",
      "source": [
        "# Misc Section\n",
        "Kumpulan tambahan untuk download Checkpoint, Lora, Textual Inversion ke dalam Gdrive."
      ],
      "metadata": {
        "id": "8dURfLGhQ5Yf"
      }
    },
    {
      "cell_type": "code",
      "source": [
        "#@title Download Checkpoint { display-mode: \"form\" }\n",
        "\n",
        "from google.colab import drive\n",
        "drive.mount('/content/drive')\n",
        "\n",
        "!apt-get -y install -qq aria2\n",
        "\n",
        "#@markdown Isi dengan link download\n",
        "model_url = \"https://civitai.com/api/download/models/11745\" #@param {type:\"string\"}\n",
        "\n",
        "#@markdown Isi dengan nama yang di inginkan\n",
        "model_name = \"ChilloutMix.safetensors\" #@param {type:\"string\"}\n",
        "\n",
        "model_url = f\"\\\"{model_url}\\\"\"\n",
        "!aria2c --console-log-level=error -c -x 16 -s 16 -k 1M {model_url} -d /content/drive/MyDrive/SDdata/Checkpoint -o {model_name}\n"
      ],
      "metadata": {
        "id": "BUQnsZU9SJ0j"
      },
      "execution_count": null,
      "outputs": []
    },
    {
      "cell_type": "code",
      "source": [
        "#@title Download Lora { display-mode: \"form\" }\n",
        "\n",
        "from google.colab import drive\n",
        "drive.mount('/content/drive')\n",
        "\n",
        "!apt-get -y install -qq aria2\n",
        "\n",
        "#@markdown Isi dengan link download\n",
        "model_url = \"https://huggingface.co/aimainia/japaneseDollLikeness_v10/resolve/main/japaneseDollLikeness_v10.safetensors\" #@param {type:\"string\"}\n",
        "\n",
        "#@markdown Isi dengan nama yang di inginkan\n",
        "model_name = \"japaneseDollLikeness_v10.safetensors\" #@param {type:\"string\"}\n",
        "\n",
        "model_url = f\"\\\"{model_url}\\\"\"\n",
        "!aria2c --console-log-level=error -c -x 16 -s 16 -k 1M {model_url} -d /content/drive/MyDrive/SDdata/Lora -o {model_name}\n"
      ],
      "metadata": {
        "id": "hKarjb2QTbcn"
      },
      "execution_count": null,
      "outputs": []
    },
    {
      "cell_type": "code",
      "source": [
        "#@title Download Textual Inversion { display-mode: \"form\" }\n",
        "\n",
        "from google.colab import drive\n",
        "drive.mount('/content/drive')\n",
        "\n",
        "!apt-get -y install -qq aria2\n",
        "\n",
        "#@markdown Isi dengan link download\n",
        "model_url = \"https://civitai.com/api/download/models/5119\" #@param {type:\"string\"}\n",
        "\n",
        "#@markdown Isi dengan nama yang di inginkan\n",
        "model_name = \"pureerosface_v1.pt\" #@param {type:\"string\"}\n",
        "\n",
        "model_url = f\"\\\"{model_url}\\\"\"\n",
        "!aria2c --console-log-level=error -c -x 16 -s 16 -k 1M {model_url} -d /content/drive/MyDrive/SDdata/Embeddings -o {model_name}\n"
      ],
      "metadata": {
        "id": "ibpb5UYOUCgH"
      },
      "execution_count": null,
      "outputs": []
    }
  ]
}